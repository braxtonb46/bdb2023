{
 "cells": [
  {
   "cell_type": "code",
   "execution_count": 1,
   "metadata": {},
   "outputs": [
    {
     "name": "stderr",
     "output_type": "stream",
     "text": [
      "/Users/braxtonbrent/opt/anaconda3/lib/python3.8/site-packages/pandas/core/computation/expressions.py:20: UserWarning: Pandas requires version '2.7.3' or newer of 'numexpr' (version '2.7.1' currently installed).\n",
      "  from pandas.core.computation.check import NUMEXPR_INSTALLED\n"
     ]
    }
   ],
   "source": [
    "import pandas as pd\n",
    "import sklearn\n",
    "import numpy as np"
   ]
  },
  {
   "cell_type": "code",
   "execution_count": 2,
   "metadata": {},
   "outputs": [],
   "source": [
    "games = pd.read_csv('games.csv')\n",
    "plays = pd.read_csv('plays.csv')\n",
    "tackles = pd.read_csv('tackles.csv')\n",
    "players = pd.read_csv('players.csv')\n",
    "tracking_1 = pd.read_csv('tracking_week_1.csv')\n",
    "tracking_2 = pd.read_csv('tracking_week_2.csv')\n",
    "tracking_3 = pd.read_csv('tracking_week_3.csv')\n",
    "tracking_4 = pd.read_csv('tracking_week_4.csv')\n",
    "tracking_5 = pd.read_csv('tracking_week_5.csv')\n",
    "tracking_6 = pd.read_csv('tracking_week_6.csv')\n",
    "tracking_7 = pd.read_csv('tracking_week_7.csv')\n",
    "tracking_8 = pd.read_csv('tracking_week_8.csv')"
   ]
  },
  {
   "cell_type": "code",
   "execution_count": null,
   "metadata": {},
   "outputs": [],
   "source": []
  }
 ],
 "metadata": {
  "kernelspec": {
   "display_name": "Python 3",
   "language": "python",
   "name": "python3"
  },
  "language_info": {
   "codemirror_mode": {
    "name": "ipython",
    "version": 3
   },
   "file_extension": ".py",
   "mimetype": "text/x-python",
   "name": "python",
   "nbconvert_exporter": "python",
   "pygments_lexer": "ipython3",
   "version": "3.8.5"
  }
 },
 "nbformat": 4,
 "nbformat_minor": 4
}
